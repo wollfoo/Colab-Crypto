{
  "nbformat": 4,
  "nbformat_minor": 0,
  "metadata": {
    "colab": {
      "name": "Monero.ipynb",
      "provenance": [],
      "collapsed_sections": [],
      "authorship_tag": "ABX9TyPs7DI+as2vuzX7fDZ9FORG",
      "include_colab_link": true
    },
    "kernelspec": {
      "name": "python3",
      "display_name": "Python 3"
    },
    "language_info": {
      "name": "python"
    }
  },
  "cells": [
    {
      "cell_type": "markdown",
      "metadata": {
        "id": "view-in-github",
        "colab_type": "text"
      },
      "source": [
        "<a href=\"https://colab.research.google.com/github/decoded-cipher/Colab-Crypto-Mining/blob/monero/Monero.ipynb\" target=\"_parent\"><img src=\"https://colab.research.google.com/assets/colab-badge.svg\" alt=\"Open In Colab\"/></a>"
      ]
    },
    {
      "cell_type": "markdown",
      "metadata": {
        "id": "TFMFRe4G6VuW"
      },
      "source": [
        "# Monero\n",
        "\n",
        "---\n",
        "\n",
        "[Monero](https://www.getmonero.org/) mining does not need any specific hardware such as the **application-specific integrated circuits (ASICs)**. An ASIC is a costly form of hardware that is commonly used to mine cryptocurrencies like **Bitcoin**. Instead, you can use the CPU or GPU of your own computer to mine the currency."
      ]
    },
    {
      "cell_type": "code",
      "metadata": {
        "id": "xzVyb_qWmkQt"
      },
      "source": [
        "# Download the XMRig Miner onto the CoLab Machine\n",
        "!wget https://github.com/xmrig/xmrig/releases/download/v6.20.0/xmrig-6.20.0-linux-x64.tar.gz"
      ],
      "execution_count": null,
      "outputs": []
    },
    {
      "cell_type": "code",
      "metadata": {
        "id": "WsD5OpPSmx5C"
      },
      "source": [
        "#Extract the Archive Files\n",
        "!tar -zxf xmrig-6.20.0-linux-x64.tar.gz"
      ],
      "execution_count": null,
      "outputs": []
    },
    {
      "cell_type": "code",
      "metadata": {
        "id": "wZc3KkBim0Uu"
      },
      "source": [
        "# Move into the folder\n",
        "cd xmrig-6.20.0"
      ],
      "execution_count": null,
      "outputs": []
    },
    {
      "cell_type": "markdown",
      "metadata": {
        "id": "j8SZuQJd-SUN"
      },
      "source": [
        "* Here we use the **Cryptonight Algorithm** to Mine Monero **(Proof-of-Work)**.\n",
        "* I choose for [MinerGate Mining Pool](https://minergate.com/).\n",
        "* Replace ***rtsnzmc8ak4mbcx*** with your MinerGate User ID."
      ]
    },
    {
      "cell_type": "code",
      "metadata": {
        "id": "lwnzM_eWm2Rp"
      },
      "source": [
        "# Run the XMRig Miner\n",
        "!./xmrig --donate-level 1 -o xmr-us-west1.nanopool.org:14433 -u 44XbJdyExZZbCqrGyvG1oUbTpBL8JNqHVh8hmYXgUfEHgHs4t45yMfKeTAUQ4dDNtPc2vXhj83uJf1byNSgwU9ZYFxgT3Ao.orc -p x -a rx/0 -k --tls"
      ],
      "execution_count": null,
      "outputs": []
    }
  ]
}
